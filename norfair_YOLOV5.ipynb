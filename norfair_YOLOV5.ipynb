{
  "nbformat": 4,
  "nbformat_minor": 0,
  "metadata": {
    "colab": {
      "provenance": [],
      "authorship_tag": "ABX9TyMw2hZE7IgK5twl9e1UUPZV",
      "include_colab_link": true
    },
    "kernelspec": {
      "name": "python3",
      "display_name": "Python 3"
    },
    "language_info": {
      "name": "python"
    },
    "accelerator": "GPU",
    "gpuClass": "standard"
  },
  "cells": [
    {
      "cell_type": "markdown",
      "metadata": {
        "id": "view-in-github",
        "colab_type": "text"
      },
      "source": [
        "<a href=\"https://colab.research.google.com/github/Hossein-Montazer/norfair_change/blob/master/norfair_YOLOV5.ipynb\" target=\"_parent\"><img src=\"https://colab.research.google.com/assets/colab-badge.svg\" alt=\"Open In Colab\"/></a>"
      ]
    },
    {
      "cell_type": "code",
      "source": [
        "!nvidia-smi"
      ],
      "metadata": {
        "colab": {
          "base_uri": "https://localhost:8080/"
        },
        "id": "xn0udbiBGKK7",
        "outputId": "bca6d828-7b54-4bd6-d7c7-c48efa6a8d33"
      },
      "execution_count": null,
      "outputs": [
        {
          "output_type": "stream",
          "name": "stdout",
          "text": [
            "Wed Nov 16 20:48:06 2022       \n",
            "+-----------------------------------------------------------------------------+\n",
            "| NVIDIA-SMI 460.32.03    Driver Version: 460.32.03    CUDA Version: 11.2     |\n",
            "|-------------------------------+----------------------+----------------------+\n",
            "| GPU  Name        Persistence-M| Bus-Id        Disp.A | Volatile Uncorr. ECC |\n",
            "| Fan  Temp  Perf  Pwr:Usage/Cap|         Memory-Usage | GPU-Util  Compute M. |\n",
            "|                               |                      |               MIG M. |\n",
            "|===============================+======================+======================|\n",
            "|   0  Tesla T4            Off  | 00000000:00:04.0 Off |                    0 |\n",
            "| N/A   52C    P8     9W /  70W |      0MiB / 15109MiB |      0%      Default |\n",
            "|                               |                      |                  N/A |\n",
            "+-------------------------------+----------------------+----------------------+\n",
            "                                                                               \n",
            "+-----------------------------------------------------------------------------+\n",
            "| Processes:                                                                  |\n",
            "|  GPU   GI   CI        PID   Type   Process name                  GPU Memory |\n",
            "|        ID   ID                                                   Usage      |\n",
            "|=============================================================================|\n",
            "|  No running processes found                                                 |\n",
            "+-----------------------------------------------------------------------------+\n"
          ]
        }
      ]
    },
    {
      "cell_type": "code",
      "execution_count": null,
      "metadata": {
        "colab": {
          "base_uri": "https://localhost:8080/"
        },
        "id": "e0qvLU7C3qzL",
        "outputId": "3f268580-2293-4abf-901e-33f00d0670a5"
      },
      "outputs": [
        {
          "output_type": "stream",
          "name": "stdout",
          "text": [
            "Cloning into 'norfair_change'...\n",
            "remote: Enumerating objects: 3175, done.\u001b[K\n",
            "remote: Counting objects: 100% (32/32), done.\u001b[K\n",
            "remote: Compressing objects: 100% (24/24), done.\u001b[K\n",
            "remote: Total 3175 (delta 12), reused 25 (delta 8), pack-reused 3143\u001b[K\n",
            "Receiving objects: 100% (3175/3175), 505.07 MiB | 40.34 MiB/s, done.\n",
            "Resolving deltas: 100% (1909/1909), done.\n",
            "Checking out files: 100% (146/146), done.\n"
          ]
        }
      ],
      "source": [
        "!git clone https://github.com/Hossein-Montazer/norfair_change.git"
      ]
    },
    {
      "cell_type": "code",
      "source": [
        "!pip install norfair"
      ],
      "metadata": {
        "id": "mtPsrhOk5Fhj"
      },
      "execution_count": null,
      "outputs": []
    },
    {
      "cell_type": "code",
      "source": [
        "%cd norfair_change/demos/yolov5/"
      ],
      "metadata": {
        "id": "zVMeuQBK4RQS",
        "colab": {
          "base_uri": "https://localhost:8080/"
        },
        "outputId": "427bf0ab-2ece-4fef-b93f-59339c904a7a"
      },
      "execution_count": null,
      "outputs": [
        {
          "output_type": "stream",
          "name": "stdout",
          "text": [
            "/content/norfair_change/demos/yolov5\n"
          ]
        }
      ]
    },
    {
      "cell_type": "code",
      "source": [
        "!pip install -r requirements.txt"
      ],
      "metadata": {
        "id": "O2TNm88q5npm"
      },
      "execution_count": null,
      "outputs": []
    },
    {
      "cell_type": "code",
      "source": [
        "%cd src\n",
        "!wget \"https://drive.google.com/uc?export=download&id=1In4inopruHy8WbH3XZMb660T3QDzzs7z\" -O traffic.mp4"
      ],
      "metadata": {
        "colab": {
          "base_uri": "https://localhost:8080/"
        },
        "id": "WnbrLsJW55eu",
        "outputId": "34fb3a31-3af3-4dc6-f432-18fd7d2421d4"
      },
      "execution_count": null,
      "outputs": [
        {
          "output_type": "stream",
          "name": "stdout",
          "text": [
            "/content/norfair_change/demos/yolov5/src\n",
            "--2022-11-16 20:48:44--  https://drive.google.com/uc?export=download&id=1In4inopruHy8WbH3XZMb660T3QDzzs7z\n",
            "Resolving drive.google.com (drive.google.com)... 74.125.70.102, 74.125.70.101, 74.125.70.139, ...\n",
            "Connecting to drive.google.com (drive.google.com)|74.125.70.102|:443... connected.\n",
            "HTTP request sent, awaiting response... 303 See Other\n",
            "Location: https://doc-00-04-docs.googleusercontent.com/docs/securesc/ha0ro937gcuc7l7deffksulhg5h7mbp1/eqnlrn1mdh9qnlah0adajgrpqeku8g1k/1668631725000/05798284411424907660/*/1In4inopruHy8WbH3XZMb660T3QDzzs7z?e=download&uuid=24401a70-7d97-4120-bd3c-08de5f41910f [following]\n",
            "Warning: wildcards not supported in HTTP.\n",
            "--2022-11-16 20:48:46--  https://doc-00-04-docs.googleusercontent.com/docs/securesc/ha0ro937gcuc7l7deffksulhg5h7mbp1/eqnlrn1mdh9qnlah0adajgrpqeku8g1k/1668631725000/05798284411424907660/*/1In4inopruHy8WbH3XZMb660T3QDzzs7z?e=download&uuid=24401a70-7d97-4120-bd3c-08de5f41910f\n",
            "Resolving doc-00-04-docs.googleusercontent.com (doc-00-04-docs.googleusercontent.com)... 172.217.212.132, 2607:f8b0:4001:c03::84\n",
            "Connecting to doc-00-04-docs.googleusercontent.com (doc-00-04-docs.googleusercontent.com)|172.217.212.132|:443... connected.\n",
            "HTTP request sent, awaiting response... 200 OK\n",
            "Length: 10028108 (9.6M) [video/mp4]\n",
            "Saving to: ‘traffic.mp4’\n",
            "\n",
            "traffic.mp4         100%[===================>]   9.56M  38.1MB/s    in 0.3s    \n",
            "\n",
            "2022-11-16 20:48:47 (38.1 MB/s) - ‘traffic.mp4’ saved [10028108/10028108]\n",
            "\n"
          ]
        }
      ]
    },
    {
      "cell_type": "code",
      "source": [
        "!python demo.py -h"
      ],
      "metadata": {
        "colab": {
          "base_uri": "https://localhost:8080/"
        },
        "id": "GUVu74e8GOzq",
        "outputId": "c65e6d7c-d195-4d3a-feaa-72d42b78b7f6"
      },
      "execution_count": null,
      "outputs": [
        {
          "output_type": "stream",
          "name": "stdout",
          "text": [
            "usage: demo.py [-h] [--model-name MODEL_NAME] [--img-size IMG_SIZE]\n",
            "               [--conf-threshold CONF_THRESHOLD]\n",
            "               [--iou-threshold IOU_THRESHOLD]\n",
            "               [--classes CLASSES [CLASSES ...]] [--device DEVICE]\n",
            "               [--track-points TRACK_POINTS]\n",
            "               files [files ...]\n",
            "\n",
            "Track objects in a video.\n",
            "\n",
            "positional arguments:\n",
            "  files                 Video files to process\n",
            "\n",
            "optional arguments:\n",
            "  -h, --help            show this help message and exit\n",
            "  --model-name MODEL_NAME\n",
            "                        YOLOv5 model name\n",
            "  --img-size IMG_SIZE   YOLOv5 inference size (pixels)\n",
            "  --conf-threshold CONF_THRESHOLD\n",
            "                        YOLOv5 object confidence threshold\n",
            "  --iou-threshold IOU_THRESHOLD\n",
            "                        YOLOv5 IOU threshold for NMS\n",
            "  --classes CLASSES [CLASSES ...]\n",
            "                        Filter by class: --classes 0, or --classes 0 2 3\n",
            "  --device DEVICE       Inference device: 'cpu' or 'cuda'\n",
            "  --track-points TRACK_POINTS\n",
            "                        Track points: 'centroid' or 'bbox'\n"
          ]
        }
      ]
    },
    {
      "cell_type": "code",
      "source": [
        "!python demo.py traffic.mp4  --track-points 'bbox' "
      ],
      "metadata": {
        "colab": {
          "base_uri": "https://localhost:8080/"
        },
        "id": "daSi7QVf6_OQ",
        "outputId": "cdac7cc6-f54f-47a9-8979-bf9b44cb3cb4"
      },
      "execution_count": null,
      "outputs": [
        {
          "output_type": "stream",
          "name": "stdout",
          "text": [
            "<bound method _ActionsContainer.add_argument of ArgumentParser(prog='demo.py', usage=None, description='Track objects in a video.', formatter_class=<class 'argparse.HelpFormatter'>, conflict_handler='error', add_help=True)>\n",
            "/usr/local/lib/python3.7/dist-packages/torch/hub.py:267: UserWarning: You are about to download and run code from an untrusted repository. In a future release, this won't be allowed. To add the repository to your trusted list, change the command to {calling_fn}(..., trust_repo=False) and a command prompt will appear asking for an explicit confirmation of trust, or load(..., trust_repo=True), which will assume that the prompt is to be answered with 'yes'. You can also use load(..., trust_repo='check') which will only prompt for confirmation if the repo is not already trusted. This will eventually be the default behaviour\n",
            "  \"You are about to download and run code from an untrusted repository. In a future release, this won't \"\n",
            "Downloading: \"https://github.com/ultralytics/yolov5/zipball/master\" to /root/.cache/torch/hub/master.zip\n",
            "YOLOv5 🚀 2022-11-16 Python-3.7.15 torch-1.12.1+cu113 CUDA:0 (Tesla T4, 15110MiB)\n",
            "\n",
            "Downloading https://github.com/ultralytics/yolov5/releases/download/v6.2/yolov5m6.pt to yolov5m6.pt...\n",
            "100% 69.0M/69.0M [00:00<00:00, 220MB/s]\n",
            "\n",
            "Fusing layers... \n",
            "YOLOv5m6 summary: 378 layers, 35704908 parameters, 0 gradients\n",
            "Adding AutoShape... \n",
            "\u001b[2K ...  \u001b[90m━━━━━━━━━━━━━━━━━━━━━━━━━━━━━━━━━━━━━━━━\u001b[0m \u001b[35m100%\u001b[0m \u001b[36m0:00:00\u001b[0m \u001b[33m18.74fps\u001b[0m\n",
            "\u001b[?25h\u001b[37mOutput video file saved to: .\u001b[0m\u001b[37m/\u001b[0m\u001b[37mtraffic_out.mp4\u001b[0m\n"
          ]
        }
      ]
    }
  ]
}